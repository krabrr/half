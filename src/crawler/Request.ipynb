{
 "metadata": {
  "language_info": {
   "codemirror_mode": {
    "name": "ipython",
    "version": 3
   },
   "file_extension": ".py",
   "mimetype": "text/x-python",
   "name": "python",
   "nbconvert_exporter": "python",
   "pygments_lexer": "ipython3",
   "version": "3.8.5-final"
  },
  "orig_nbformat": 2,
  "kernelspec": {
   "name": "Python 3.8.5 64-bit",
   "display_name": "Python 3.8.5 64-bit",
   "metadata": {
    "interpreter": {
     "hash": "aee8b7b246df8f9039afb4144a1f6fd8d2ca17a180786b69acc140d282b71a49"
    }
   }
  }
 },
 "nbformat": 4,
 "nbformat_minor": 2,
 "cells": [
  {
   "cell_type": "code",
   "execution_count": 150,
   "metadata": {},
   "outputs": [],
   "source": [
    "import time\n",
    "import math\n",
    "import json\n",
    "import random\n",
    "from seleniumwire import webdriver\n",
    "from fake_useragent import UserAgent\n",
    "from selenium.webdriver.chrome.options import Options\n",
    "from selenium.common.exceptions import JavascriptException\n",
    "from webdriver_manager.chrome import ChromeDriverManager\n",
    "from IPython.display import display, clear_output"
   ]
  },
  {
   "cell_type": "code",
   "execution_count": 151,
   "metadata": {},
   "outputs": [
    {
     "output_type": "stream",
     "name": "stderr",
     "text": [
      "[WDM] - Current google-chrome version is 86.0.4240\n",
      "[WDM] - Get LATEST driver version for 86.0.4240\n",
      " \n",
      "[WDM] - Get LATEST driver version for 86.0.4240\n",
      "[WDM] - Trying to download new driver from http://chromedriver.storage.googleapis.com/86.0.4240.22/chromedriver_mac64.zip\n",
      "[WDM] - Driver has been saved in cache [/Users/nbaramichai/.wdm/drivers/chromedriver/mac64/86.0.4240.22]\n"
     ]
    }
   ],
   "source": [
    "chrome_options = Options()\n",
    "chrome_options.add_argument(\"--headless\")\n",
    "driver = webdriver.Chrome(ChromeDriverManager().install(), chrome_options=chrome_options)"
   ]
  },
  {
   "cell_type": "code",
   "execution_count": 152,
   "metadata": {},
   "outputs": [],
   "source": [
    "def get_shops_from_requests(driver):\n",
    "    shops = []\n",
    "    for request in driver.requests:\n",
    "        if request.path=='/api/shop/search':\n",
    "            items = json.loads(request.response.body)\n",
    "            shops = shops + items['data']\n",
    "    return shops"
   ]
  },
  {
   "cell_type": "code",
   "execution_count": 153,
   "metadata": {},
   "outputs": [
    {
     "output_type": "display_data",
     "data": {
      "text/plain": "'Loading: 5616'"
     },
     "metadata": {}
    }
   ],
   "source": [
    "shops = []\n",
    "url = 'https://search-merchant.xn--42caj4e6bk1f5b1j.com/result?searchQuery=&provinceCode=20&categoryId='\n",
    "driver.get(url)\n",
    "time.sleep(3)\n",
    "\n",
    "n = math.ceil(1789 / 18)\n",
    "for i in range(n):\n",
    "    try:\n",
    "        driver.execute_script('document.querySelector(\".items-start>.flex-1 button\").click()')\n",
    "        time.sleep(random.randint(1, 3) + random.random())\n",
    "    except JavascriptException as e:\n",
    "        print(e)\n",
    "        break\n",
    "    clear_output()\n",
    "    display('Loading: {}'.format(18 * (i + 1)))"
   ]
  },
  {
   "cell_type": "code",
   "execution_count": 154,
   "metadata": {},
   "outputs": [
    {
     "output_type": "stream",
     "name": "stdout",
     "text": [
      "4446\n"
     ]
    }
   ],
   "source": [
    "shops = get_shops_from_requests(driver)\n",
    "print(len(shops))\n",
    "with open('./data/shop_20.json', 'w', encoding='utf8') as out_file:\n",
    "    json.dump(shops, out_file, ensure_ascii=False, indent=4)"
   ]
  },
  {
   "cell_type": "code",
   "execution_count": 125,
   "metadata": {},
   "outputs": [
    {
     "output_type": "execute_result",
     "data": {
      "text/plain": [
       "'Mozilla/5.0 (compatible; MSIE 9.0; Windows NT 6.1; WOW64; Trident/5.0; SLCC2; Media Center PC 6.0; InfoPath.3; MS-RTC LM 8; Zune 4.7)'"
      ]
     },
     "metadata": {},
     "execution_count": 125
    }
   ],
   "source": [
    "UserAgent().random"
   ]
  },
  {
   "cell_type": "code",
   "execution_count": null,
   "metadata": {},
   "outputs": [],
   "source": []
  }
 ]
}