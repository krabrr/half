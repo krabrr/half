{
 "cells": [
  {
   "cell_type": "code",
   "execution_count": 2,
   "metadata": {},
   "outputs": [],
   "source": [
    "import json\n",
    "import numpy as np\n",
    "import pandas as pd\n",
    "from pathlib import Path"
   ]
  },
  {
   "cell_type": "code",
   "execution_count": 13,
   "metadata": {},
   "outputs": [
    {
     "output_type": "stream",
     "name": "stdout",
     "text": [
      "fcb638e323492268d361db8be2606bae\nf8ab620422003596487c7565bdda22e7\n952de1ef99d3df1bb6aeb93f396ebce4\n73e14903ff2628552b07613b79d20c8d\n952de1ef99d3df1bb6aeb93f396ebce4\n71eb2c5f909ed695d5ffd5b512170124\nfcb638e323492268d361db8be2606bae\nf19c71c380969dd27ed4713be11893f1\n78240b9caf714d3e175cee5536b422fc\n75e58739d0add13c2806c46f1bc35728\nf8ab620422003596487c7565bdda22e7\n15de7ea6942900af92ab7e4791fd6309\nf19c71c380969dd27ed4713be11893f1\n38a44c82dfb51260944132ca4bda38b3\n3b698396d0bfaa7354723123f450ba7c\n979825d4f0a1ffcc1566f752b5c4d386\n87d790abbaab04a73e57d303cc33a68d\ndd0ac2229ca1ea413e8958499737c6c1\n38a44c82dfb51260944132ca4bda38b3\ne41443f24c2c105e275d1461e8b12ab9\n925139bfbffabc1efac45f9d9e3a33f6\n9957fecd7b20ee47972da6d7faab330d\n44c0bd790f8284816078515e47b0b0b6\n06a0d8241429df897017df0ad0bd3ed5\ne41443f24c2c105e275d1461e8b12ab9\n87d790abbaab04a73e57d303cc33a68d\n9f38abc4f857ffa549a2609ee906dfc8\n06a0d8241429df897017df0ad0bd3ed5\nd69c2acf1d07bc3c03a150c623e1b761\nf75a44d495d315c5a175fcfb652fa5ab\n85a29e7c564ccf6e309ecc0980ec70fb\n557567c62e6abf36bfeaa21ae00f8fcb\n68000e76c1452460c068c3e4e8293d9c\nff21940cfa094a15f906aeef6386e7e5\nfacf41f4892ee3489faaf4fea4e1be0b\ncbcac02fa27418b7452f6a037472ad8d\n1231430d061d14e014bb57bc35196f19\n8a6d0df51ef1150cbf9c4d19d8197b7d\nff21940cfa094a15f906aeef6386e7e5\n557567c62e6abf36bfeaa21ae00f8fcb\n6046bdb6848e96ac0a294f54e431e58c\nd69c2acf1d07bc3c03a150c623e1b761\nfacf41f4892ee3489faaf4fea4e1be0b\nf34f9c33741de851eed9d52ecce9b9d9\n8ed21c90b6d2e9dc58e761c3824fa7fa\n8ed21c90b6d2e9dc58e761c3824fa7fa\n7a951abc037ae93ecf4957a8ef5137d5\ncbcac02fa27418b7452f6a037472ad8d\nb47069d485808b453d34cd98737a48d2\n8a6d0df51ef1150cbf9c4d19d8197b7d\nf164a12223323287d3ed4a8a9e0d4139\n962172538005e2df9b0dddf0a5a9f1c3\n871d3867e06a9d3b2487af735994786b\n871d3867e06a9d3b2487af735994786b\n"
     ]
    },
    {
     "output_type": "execute_result",
     "data": {
      "text/plain": [
       "                               name  \\\n",
       "0                  สุพิศ ธีรวัฒนสาร   \n",
       "1               เอ็กซ์โปเครื่องครัว   \n",
       "2            น้องแหม่ม ไก่ทอดอิสลาม   \n",
       "3                 มิลเลอร์ มิลเลอร์   \n",
       "4     ร้านเต้าซ้อแม่บุญธรรม ถนนดำรง   \n",
       "...                             ...   \n",
       "1633                ปิ้งกะเนยภูเก็ต   \n",
       "1634                จิระวรรณ แซ่จิว   \n",
       "1635               ประสิทธิ์. ผักสด   \n",
       "1636                 ร้านหลานติ่มซำ   \n",
       "1637       เฉาก๊วยอินเตอร์ BY HANEE   \n",
       "\n",
       "                                               category  \\\n",
       "0     ซุปเปอร์มาร์เก็ต/ขายของใช้/ขายของชำ/มินิมาร์ท/...   \n",
       "1     ซุปเปอร์มาร์เก็ต/ขายของใช้/ขายของชำ/มินิมาร์ท/...   \n",
       "2                                             ร้านอาหาร   \n",
       "3                                             ร้านอาหาร   \n",
       "4                                             ร้านอาหาร   \n",
       "...                                                 ...   \n",
       "1633                                          ร้านอาหาร   \n",
       "1634                                          ร้านอาหาร   \n",
       "1635                                       ร้านค้าธงฟ้า   \n",
       "1636                                          ร้านอาหาร   \n",
       "1637                                          ร้านอาหาร   \n",
       "\n",
       "                              sub_category  latitude  longitude  \n",
       "0                 มินิมาร์ท / ร้านขายของชำ  7.891593  98.375738  \n",
       "1                  ร้านขายของใช้ / อุปกรณ์  7.880748  98.395457  \n",
       "2                           ร้านอาหารอีสาน  7.896907  98.301684  \n",
       "3                            อาหารนานาชาติ  7.886051  98.388137  \n",
       "4                 อาหารว่าง ขนม ของกินเล่น  7.895033  98.402179  \n",
       "...                                    ...       ...        ...  \n",
       "1633                ชาบู สุกี้ยากี้ หม้อไฟ  7.883960  98.397937  \n",
       "1634                   ก๋วยเตี๋ยว ก๋วยจั๊บ  8.003782  98.339290  \n",
       "1635                                        7.867701  98.365520  \n",
       "1636                  ข้าวต้ม โจ๊ก เกาเหลา  7.876879  98.387832  \n",
       "1637  ของหวาน ไอศกรีม เบเกอรี่ เครื่องดื่ม  7.979830  98.293839  \n",
       "\n",
       "[1638 rows x 5 columns]"
      ],
      "text/html": "<div>\n<style scoped>\n    .dataframe tbody tr th:only-of-type {\n        vertical-align: middle;\n    }\n\n    .dataframe tbody tr th {\n        vertical-align: top;\n    }\n\n    .dataframe thead th {\n        text-align: right;\n    }\n</style>\n<table border=\"1\" class=\"dataframe\">\n  <thead>\n    <tr style=\"text-align: right;\">\n      <th></th>\n      <th>name</th>\n      <th>category</th>\n      <th>sub_category</th>\n      <th>latitude</th>\n      <th>longitude</th>\n    </tr>\n  </thead>\n  <tbody>\n    <tr>\n      <th>0</th>\n      <td>สุพิศ ธีรวัฒนสาร</td>\n      <td>ซุปเปอร์มาร์เก็ต/ขายของใช้/ขายของชำ/มินิมาร์ท/...</td>\n      <td>มินิมาร์ท / ร้านขายของชำ</td>\n      <td>7.891593</td>\n      <td>98.375738</td>\n    </tr>\n    <tr>\n      <th>1</th>\n      <td>เอ็กซ์โปเครื่องครัว</td>\n      <td>ซุปเปอร์มาร์เก็ต/ขายของใช้/ขายของชำ/มินิมาร์ท/...</td>\n      <td>ร้านขายของใช้ / อุปกรณ์</td>\n      <td>7.880748</td>\n      <td>98.395457</td>\n    </tr>\n    <tr>\n      <th>2</th>\n      <td>น้องแหม่ม ไก่ทอดอิสลาม</td>\n      <td>ร้านอาหาร</td>\n      <td>ร้านอาหารอีสาน</td>\n      <td>7.896907</td>\n      <td>98.301684</td>\n    </tr>\n    <tr>\n      <th>3</th>\n      <td>มิลเลอร์ มิลเลอร์</td>\n      <td>ร้านอาหาร</td>\n      <td>อาหารนานาชาติ</td>\n      <td>7.886051</td>\n      <td>98.388137</td>\n    </tr>\n    <tr>\n      <th>4</th>\n      <td>ร้านเต้าซ้อแม่บุญธรรม ถนนดำรง</td>\n      <td>ร้านอาหาร</td>\n      <td>อาหารว่าง ขนม ของกินเล่น</td>\n      <td>7.895033</td>\n      <td>98.402179</td>\n    </tr>\n    <tr>\n      <th>...</th>\n      <td>...</td>\n      <td>...</td>\n      <td>...</td>\n      <td>...</td>\n      <td>...</td>\n    </tr>\n    <tr>\n      <th>1633</th>\n      <td>ปิ้งกะเนยภูเก็ต</td>\n      <td>ร้านอาหาร</td>\n      <td>ชาบู สุกี้ยากี้ หม้อไฟ</td>\n      <td>7.883960</td>\n      <td>98.397937</td>\n    </tr>\n    <tr>\n      <th>1634</th>\n      <td>จิระวรรณ แซ่จิว</td>\n      <td>ร้านอาหาร</td>\n      <td>ก๋วยเตี๋ยว ก๋วยจั๊บ</td>\n      <td>8.003782</td>\n      <td>98.339290</td>\n    </tr>\n    <tr>\n      <th>1635</th>\n      <td>ประสิทธิ์. ผักสด</td>\n      <td>ร้านค้าธงฟ้า</td>\n      <td></td>\n      <td>7.867701</td>\n      <td>98.365520</td>\n    </tr>\n    <tr>\n      <th>1636</th>\n      <td>ร้านหลานติ่มซำ</td>\n      <td>ร้านอาหาร</td>\n      <td>ข้าวต้ม โจ๊ก เกาเหลา</td>\n      <td>7.876879</td>\n      <td>98.387832</td>\n    </tr>\n    <tr>\n      <th>1637</th>\n      <td>เฉาก๊วยอินเตอร์ BY HANEE</td>\n      <td>ร้านอาหาร</td>\n      <td>ของหวาน ไอศกรีม เบเกอรี่ เครื่องดื่ม</td>\n      <td>7.979830</td>\n      <td>98.293839</td>\n    </tr>\n  </tbody>\n</table>\n<p>1638 rows × 5 columns</p>\n</div>"
     },
     "metadata": {},
     "execution_count": 13
    }
   ],
   "source": [
    "path = './data/shop_83.json'\n",
    "\n",
    "shops = []\n",
    "features = []\n",
    "with open(str(path)) as in_file:\n",
    "    item_list = json.load(in_file)\n",
    "\n",
    "    for item in item_list:\n",
    "        try:\n",
    "            shop_data = item['shop']\n",
    "            location_data = item['pinLocation']\n",
    "            image = ''\n",
    "            sub_category = '' \n",
    "            if 'subcategoryName' in shop_data:\n",
    "                sub_category = shop_data['subcategoryName']\n",
    "            if 'coverImageId' in item:\n",
    "                image = item['coverImageId']\n",
    "\n",
    "            # for analysis\n",
    "            shop = {\n",
    "                'name': shop_data['shopNameTH'],\n",
    "                'category': shop_data['categoryName'],\n",
    "                'sub_category': sub_category,\n",
    "                'latitude': location_data['lat'],\n",
    "                'longitude': location_data['lon']\n",
    "            }\n",
    "            shops.append(shop)\n",
    "\n",
    "            # for displaying map\n",
    "            coordinates = [location_data['lon'], location_data['lat']]\n",
    "            geometry = {\n",
    "                'coordinates': coordinates,\n",
    "                'type': 'Point'\n",
    "            }\n",
    "            properties = {\n",
    "                'id': item['id'],\n",
    "                'image': image,\n",
    "                'name': shop_data['shopNameTH'],\n",
    "                'name_en': shop_data['shopNameEN'],\n",
    "                'category': shop_data['categoryName'],\n",
    "                'sub_category': sub_category\n",
    "            }\n",
    "            feature = {\n",
    "                'geometry': geometry,\n",
    "                'properties': properties,\n",
    "                'type': 'Feature'\n",
    "            }\n",
    "            features.append(feature)\n",
    "        except:\n",
    "            print(item['id'])\n",
    "\n",
    "geo_json = {\n",
    "    'features': features,\n",
    "    'type': 'FeatureCollection'\n",
    "}\n",
    "\n",
    "with open('../assets/geo_shop_83.json', 'w', encoding='utf8') as out_file:\n",
    "    json.dump(geo_json, out_file, ensure_ascii=False)\n",
    "    \n",
    "df = pd.DataFrame(shops)\n",
    "df"
   ]
  },
  {
   "cell_type": "code",
   "execution_count": null,
   "metadata": {},
   "outputs": [],
   "source": []
  }
 ],
 "metadata": {
  "kernelspec": {
   "display_name": "Python 3",
   "language": "python",
   "name": "python3"
  },
  "language_info": {
   "codemirror_mode": {
    "name": "ipython",
    "version": 3
   },
   "file_extension": ".py",
   "mimetype": "text/x-python",
   "name": "python",
   "nbconvert_exporter": "python",
   "pygments_lexer": "ipython3",
   "version": "3.8.5-final"
  }
 },
 "nbformat": 4,
 "nbformat_minor": 2
}