{
 "cells": [
  {
   "cell_type": "code",
   "execution_count": 2,
   "metadata": {},
   "outputs": [],
   "source": [
    "import json\n",
    "import numpy as np\n",
    "import pandas as pd\n",
    "from pathlib import Path"
   ]
  },
  {
   "cell_type": "code",
   "execution_count": 11,
   "metadata": {},
   "outputs": [
    {
     "output_type": "stream",
     "name": "stdout",
     "text": [
      "e429688bbd0df3717f537716b446d680\nd7ab9fe153ce888c15a3ccecc6d68b0d\n841e5f0161c1b906a252d22feb45a8bf\nf6e38cd5d20e747f57fa39af90d795b2\ndd8a15f9ca93d6c66d5d47a5928198c6\n53ac64be98c16279e955076371cb9dcd\ne73c68e1383edd5cc2275455d917ceaf\nca212ce0ba5ac37df5b4bf567a90ee16\n54c5e69afbee37986444e0a7396b4505\ndd8a15f9ca93d6c66d5d47a5928198c6\nfac95b83098e2bcc27b507038c1e73ed\n2ba03e143a4898dbcdacd7f788bd6645\nb567bcb8059f50946525c08a44deecb9\n1b9a410c5c36b1ec678c2db9a88c7638\n89581adff0305a081558251d3e013c80\n7ae89ce6faeb39e99fa4c4fb8f337ebd\n73df6e6bc30c8ded5f06601068c110ae\n0ce64b18d2c484b245211f24f8e1cb1e\n3ae4aa01fe5d1c7e35c0cd1896bc6eef\n6d764c6c4d55e60fef79b32c6c6039d4\n55b54eda4d08c761f355306ffb7641a3\n4ec2183086a355f67d87ab719b313a13\na4328d38770c1c83bc165858be323ce5\n77bdfe0c30e9886876e41a0edda6662d\n1a1d86504c38bfa757009c2e6f075f17\n28008d39fefb9229d65106777d89e909\n21ce1bea76f27a5e85b0c44372d3b6f3\n21ce1bea76f27a5e85b0c44372d3b6f3\nbd532cbec2a1f307270b5dd987e67665\n82a14a02168c8c3dd7b0d5457b78413f\n7507d578ed2390a373995861fa5e89e7\n9e971e08396d085021006ac3361a8541\n73df6e6bc30c8ded5f06601068c110ae\n4b46023fc641fc4bc8dc9036dbb88a0c\nca212ce0ba5ac37df5b4bf567a90ee16\n2623fc42c93f5d4e6422c7ab0b3cb6f7\n6d764c6c4d55e60fef79b32c6c6039d4\ne429688bbd0df3717f537716b446d680\n77bdfe0c30e9886876e41a0edda6662d\n1a1d86504c38bfa757009c2e6f075f17\nf7fe8e8eb715294b3d95f99d8fa48697\ncc12a8c8be17d16fcaaa0d7bd7b2016e\na7fa1cb18d6c171f3bd7b4a100e6230b\n4d5ccb39bf0ed58f8887581d74b3d0df\ncdf48cad40659de9f2f17b99aa537e8c\n8069c595708f7dbdf9e57e64c0de74c5\n3ae4aa01fe5d1c7e35c0cd1896bc6eef\n3ae4aa01fe5d1c7e35c0cd1896bc6eef\n8dfbf769763d749a1861ae2d80cae62e\n55b54eda4d08c761f355306ffb7641a3\n83f9af070f1010f242c3d13a917b386c\na4328d38770c1c83bc165858be323ce5\nbef98091f7b220a3670981868a99d6f7\n424c16c8a1ee92402f5bb7f7ddc58496\n8984e64c77992c5a0e06a77be25e7ed3\nfac95b83098e2bcc27b507038c1e73ed\nf73a96e89c7af38998c0c67c41deed9d\nc20898001a2436e6da29ef21cf0e7faf\nf3af6d7bf9834ec0cc6bf0ab0a9d97e7\na4328d38770c1c83bc165858be323ce5\n188c45d3557308b0bf1bfb0d9888cd54\nfac95b83098e2bcc27b507038c1e73ed\n8678eea8c3b223b6efab75cdec5b9832\nf437b031fcb40f9fe405c9a46f1fe178\n7ae89ce6faeb39e99fa4c4fb8f337ebd\n73df6e6bc30c8ded5f06601068c110ae\ncc12a8c8be17d16fcaaa0d7bd7b2016e\n8984e64c77992c5a0e06a77be25e7ed3\n3c55a4bfa67bf528688b5fc12cff4cd9\na7fa1cb18d6c171f3bd7b4a100e6230b\n4d5ccb39bf0ed58f8887581d74b3d0df\na59a44c5ec651827e9b046d93cfd262a\n8069c595708f7dbdf9e57e64c0de74c5\n3ae4aa01fe5d1c7e35c0cd1896bc6eef\na5963961fc791a2e42ed5a24df3de65d\n54c5e69afbee37986444e0a7396b4505\ndd8a15f9ca93d6c66d5d47a5928198c6\n841e5f0161c1b906a252d22feb45a8bf\n0d333679674193c51f4077abf49acbf3\n886dcfa34041d1929840503175e39013\n2623fc42c93f5d4e6422c7ab0b3cb6f7\n74b8213aeac2835fa45ecc9fbb824c97\n6c1a7f3ef98938de5941721541b58d1f\n6442ee0d6d033acfdb9bb567bf3f3bc2\nc0ba5b30fcd200e2d0ca07fed7eb773a\nf6e38cd5d20e747f57fa39af90d795b2\n628c9f42cd55c7e970ab3a5d455437ed\nb567bcb8059f50946525c08a44deecb9\n53ac64be98c16279e955076371cb9dcd\ne429688bbd0df3717f537716b446d680\nbd532cbec2a1f307270b5dd987e67665\n29dab33dd3a126afdb50b7af9fa0b8b2\n2ba03e143a4898dbcdacd7f788bd6645\n1b9a410c5c36b1ec678c2db9a88c7638\n89581adff0305a081558251d3e013c80\na7fa1cb18d6c171f3bd7b4a100e6230b\n4d5ccb39bf0ed58f8887581d74b3d0df\nee32d50b5cbecd4db7d45ee2f8270459\n400cdf001730a3efc82b47f30e9d6cbd\n17020d6b62893922dd0a0ca0cddbba15\n31229608d5c559dedf1ca84907b6e394\nb5c10cd79497739cb5761465f0ad524a\n54c5e69afbee37986444e0a7396b4505\ndd8a15f9ca93d6c66d5d47a5928198c6\nb359d83a97017ab92365b7bfb1d9e49b\n5792913100e06ed72e96f5f76ecb9cc7\nc0ba5b30fcd200e2d0ca07fed7eb773a\neb163bd5452501efc8ea0e454db23c09\n59e8ce7de3bd8efeebe971e4a1cf0bb9\nf9ba6229e50d2b63cb281ea60d2f8411\nc0ba5b30fcd200e2d0ca07fed7eb773a\nabfd03b7e5be2298efe353eb5282816e\nc18080fcafba1b6d703733960b99b1be\n59e8ce7de3bd8efeebe971e4a1cf0bb9\n6c1a7f3ef98938de5941721541b58d1f\n9062eaf8bf3f7597dccfc87d0a99f6f1\n5792913100e06ed72e96f5f76ecb9cc7\n9e971e08396d085021006ac3361a8541\nabfd03b7e5be2298efe353eb5282816e\nd3fa545a1db488dcb1700d08b9613daa\nee32d50b5cbecd4db7d45ee2f8270459\nb19313d2d40a7a635e211077ccb37d51\n91026c4752b766ce6a68bdb63b160b5b\nc18e07634ad10a84e8a40d65983e35d9\ncffde694bc580c1265bdd59798c02ab9\n7750fef8fb5933d8302e57b3e4bf42c3\n492c9f35caa13e64bf11decdab9cb7b8\n5e5b9e6ebd36b40c49db08a23a2e0a14\n1ea664cfa6a8f3ebf8d3d89d498eea3c\nab5d2ffd231af7e081c1600956dd1381\n9d890c7a1f6180de403d9643616ed01f\n491ab37583295127b8a48d709e8069c0\n84945393760400af28095ac4988a00a7\n23dd3f09c525cad1866fde8a90ef4796\n2894657c936060831b5e9536d60ecc06\n1b192477df18137e9868e7838979a796\nfba02025e8f4b03ea6db346693550ff9\ncf56155a6fae78115cd9f3c100bca0d9\nd3fa545a1db488dcb1700d08b9613daa\ncd95c2c54b5a70c902c02235280d7abc\n99e5a12bb1ae4ff898ff0bf6636b341a\n84945393760400af28095ac4988a00a7\n1d1092c2011ffa56c5e96486388e47eb\n2ca9283d150084a33e16472487ca3472\n7dee87489caa8293a77da698dcfadfec\ne4ba28daba6d08db8c62fe5cf1aeee0b\ncd696a7c7dd46ffce1ae606ae2b000b9\nac7f5b89d99690afd7d86ab508044d00\n8a2ee6176164177aa111fe952c4d8285\n1dd7a3b8fc2d31403e01afbc7900e493\n1f7bd9077d99a26d67f63dcb51d91960\n9720345325799bb4448d06c22906750f\n"
     ]
    },
    {
     "output_type": "execute_result",
     "data": {
      "text/plain": [
       "                                      name  \\\n",
       "0                           จรุงใจ ผุยคำภา   \n",
       "1                              ธเนศ ทวีนาท   \n",
       "2                                มิตรมิลล์   \n",
       "3                         กาแฟเขาทะเลชุมพร   \n",
       "4                 โกปีสวัสดีกาแฟ สาขาสารภี   \n",
       "...                                    ...   \n",
       "4145                         ครัวเฟื่องฟ้า   \n",
       "4146               ร้านโรตีป้าเด สาขาท่าเพ   \n",
       "4147                           ร้านครูติ๋ม   \n",
       "4148                               ธัญญชนก   \n",
       "4149  ร้านกาแฟสดดอยตุงพันธุ์ทิพย์เชียงใหม่   \n",
       "\n",
       "                                 category  \\\n",
       "0                               ร้านอาหาร   \n",
       "1                               ร้านอาหาร   \n",
       "2                               ร้านอาหาร   \n",
       "3                               ร้านอาหาร   \n",
       "4                               ร้านอาหาร   \n",
       "...                                   ...   \n",
       "4145                            ร้านอาหาร   \n",
       "4146                            ร้านอาหาร   \n",
       "4147                         ร้านค้าธงฟ้า   \n",
       "4148  ร้านค้าท้องถิ่น/ผลิตภัณฑ์ชุมชน/OTOP   \n",
       "4149                            ร้านอาหาร   \n",
       "\n",
       "                                sub_category   latitude  longitude  \n",
       "0       ของหวาน ไอศกรีม เบเกอรี่ เครื่องดื่ม  18.805632  98.959690  \n",
       "1     อาหารทั่วไป อาหารตามสั่ง อาหารจานเดียว  18.774140  99.015393  \n",
       "2       ของหวาน ไอศกรีม เบเกอรี่ เครื่องดื่ม  18.286098  99.413295  \n",
       "3       ของหวาน ไอศกรีม เบเกอรี่ เครื่องดื่ม  18.820651  98.970664  \n",
       "4       ของหวาน ไอศกรีม เบเกอรี่ เครื่องดื่ม  18.712411  99.037196  \n",
       "...                                      ...        ...        ...  \n",
       "4145                     ก๋วยเตี๋ยว ก๋วยจั๊บ  18.410345  98.674361  \n",
       "4146                อาหารว่าง ขนม ของกินเล่น  18.787967  98.995741  \n",
       "4147                                          18.739333  98.992692  \n",
       "4148                                          18.793553  98.837061  \n",
       "4149    ของหวาน ไอศกรีม เบเกอรี่ เครื่องดื่ม  18.781942  98.999410  \n",
       "\n",
       "[4150 rows x 5 columns]"
      ],
      "text/html": "<div>\n<style scoped>\n    .dataframe tbody tr th:only-of-type {\n        vertical-align: middle;\n    }\n\n    .dataframe tbody tr th {\n        vertical-align: top;\n    }\n\n    .dataframe thead th {\n        text-align: right;\n    }\n</style>\n<table border=\"1\" class=\"dataframe\">\n  <thead>\n    <tr style=\"text-align: right;\">\n      <th></th>\n      <th>name</th>\n      <th>category</th>\n      <th>sub_category</th>\n      <th>latitude</th>\n      <th>longitude</th>\n    </tr>\n  </thead>\n  <tbody>\n    <tr>\n      <th>0</th>\n      <td>จรุงใจ ผุยคำภา</td>\n      <td>ร้านอาหาร</td>\n      <td>ของหวาน ไอศกรีม เบเกอรี่ เครื่องดื่ม</td>\n      <td>18.805632</td>\n      <td>98.959690</td>\n    </tr>\n    <tr>\n      <th>1</th>\n      <td>ธเนศ ทวีนาท</td>\n      <td>ร้านอาหาร</td>\n      <td>อาหารทั่วไป อาหารตามสั่ง อาหารจานเดียว</td>\n      <td>18.774140</td>\n      <td>99.015393</td>\n    </tr>\n    <tr>\n      <th>2</th>\n      <td>มิตรมิลล์</td>\n      <td>ร้านอาหาร</td>\n      <td>ของหวาน ไอศกรีม เบเกอรี่ เครื่องดื่ม</td>\n      <td>18.286098</td>\n      <td>99.413295</td>\n    </tr>\n    <tr>\n      <th>3</th>\n      <td>กาแฟเขาทะเลชุมพร</td>\n      <td>ร้านอาหาร</td>\n      <td>ของหวาน ไอศกรีม เบเกอรี่ เครื่องดื่ม</td>\n      <td>18.820651</td>\n      <td>98.970664</td>\n    </tr>\n    <tr>\n      <th>4</th>\n      <td>โกปีสวัสดีกาแฟ สาขาสารภี</td>\n      <td>ร้านอาหาร</td>\n      <td>ของหวาน ไอศกรีม เบเกอรี่ เครื่องดื่ม</td>\n      <td>18.712411</td>\n      <td>99.037196</td>\n    </tr>\n    <tr>\n      <th>...</th>\n      <td>...</td>\n      <td>...</td>\n      <td>...</td>\n      <td>...</td>\n      <td>...</td>\n    </tr>\n    <tr>\n      <th>4145</th>\n      <td>ครัวเฟื่องฟ้า</td>\n      <td>ร้านอาหาร</td>\n      <td>ก๋วยเตี๋ยว ก๋วยจั๊บ</td>\n      <td>18.410345</td>\n      <td>98.674361</td>\n    </tr>\n    <tr>\n      <th>4146</th>\n      <td>ร้านโรตีป้าเด สาขาท่าเพ</td>\n      <td>ร้านอาหาร</td>\n      <td>อาหารว่าง ขนม ของกินเล่น</td>\n      <td>18.787967</td>\n      <td>98.995741</td>\n    </tr>\n    <tr>\n      <th>4147</th>\n      <td>ร้านครูติ๋ม</td>\n      <td>ร้านค้าธงฟ้า</td>\n      <td></td>\n      <td>18.739333</td>\n      <td>98.992692</td>\n    </tr>\n    <tr>\n      <th>4148</th>\n      <td>ธัญญชนก</td>\n      <td>ร้านค้าท้องถิ่น/ผลิตภัณฑ์ชุมชน/OTOP</td>\n      <td></td>\n      <td>18.793553</td>\n      <td>98.837061</td>\n    </tr>\n    <tr>\n      <th>4149</th>\n      <td>ร้านกาแฟสดดอยตุงพันธุ์ทิพย์เชียงใหม่</td>\n      <td>ร้านอาหาร</td>\n      <td>ของหวาน ไอศกรีม เบเกอรี่ เครื่องดื่ม</td>\n      <td>18.781942</td>\n      <td>98.999410</td>\n    </tr>\n  </tbody>\n</table>\n<p>4150 rows × 5 columns</p>\n</div>"
     },
     "metadata": {},
     "execution_count": 11
    }
   ],
   "source": [
    "path = './data/shop_50.json'\n",
    "\n",
    "shops = []\n",
    "features = []\n",
    "with open(str(path)) as in_file:\n",
    "    item_list = json.load(in_file)\n",
    "\n",
    "    for item in item_list:\n",
    "        try:\n",
    "            shop_data = item['shop']\n",
    "            location_data = item['pinLocation']\n",
    "            sub_category = '' \n",
    "            if 'subcategoryName' in shop_data:\n",
    "                sub_category = shop_data['subcategoryName']\n",
    "            if 'coverImageId' in item:\n",
    "                image = item['coverImageId']\n",
    "\n",
    "            # for analysis\n",
    "            shop = {\n",
    "                'name': shop_data['shopNameTH'],\n",
    "                'category': shop_data['categoryName'],\n",
    "                'sub_category': sub_category,\n",
    "                'latitude': location_data['lat'],\n",
    "                'longitude': location_data['lon']\n",
    "            }\n",
    "            shops.append(shop)\n",
    "\n",
    "            # for displaying map\n",
    "            coordinates = [location_data['lon'], location_data['lat']]\n",
    "            geometry = {\n",
    "                'coordinates': coordinates,\n",
    "                'type': 'Point'\n",
    "            }\n",
    "            properties = {\n",
    "                'id': item['id'],\n",
    "                'image': image,\n",
    "                'name': shop_data['shopNameTH'],\n",
    "                'name_en': shop_data['shopNameEN'],\n",
    "                'category': shop_data['categoryName'],\n",
    "                'sub_category': sub_category\n",
    "            }\n",
    "            feature = {\n",
    "                'geometry': geometry,\n",
    "                'properties': properties,\n",
    "                'type': 'Feature'\n",
    "            }\n",
    "            features.append(feature)\n",
    "        except:\n",
    "            print(item['id'])\n",
    "\n",
    "geo_json = {\n",
    "    'features': features,\n",
    "    'type': 'FeatureCollection'\n",
    "}\n",
    "\n",
    "with open('../assets/geo_shop_50.json', 'w', encoding='utf8') as out_file:\n",
    "    json.dump(geo_json, out_file, ensure_ascii=False)\n",
    "    \n",
    "df = pd.DataFrame(shops)\n",
    "df"
   ]
  },
  {
   "cell_type": "code",
   "execution_count": null,
   "metadata": {},
   "outputs": [],
   "source": []
  }
 ],
 "metadata": {
  "kernelspec": {
   "display_name": "Python 3",
   "language": "python",
   "name": "python3"
  },
  "language_info": {
   "codemirror_mode": {
    "name": "ipython",
    "version": 3
   },
   "file_extension": ".py",
   "mimetype": "text/x-python",
   "name": "python",
   "nbconvert_exporter": "python",
   "pygments_lexer": "ipython3",
   "version": "3.8.5-final"
  }
 },
 "nbformat": 4,
 "nbformat_minor": 2
}