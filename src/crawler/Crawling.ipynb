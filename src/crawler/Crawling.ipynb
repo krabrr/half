{
 "cells": [
  {
   "cell_type": "code",
   "execution_count": 1,
   "metadata": {},
   "outputs": [],
   "source": [
    "# #This is how to get client-side rendered page\n",
    "# #You can get all information you want but it will slower than the first approach because it needs to wait until js finish its job\n",
    "# from requests_html import HTMLSession, AsyncHTMLSession\n",
    "\n",
    "# import asyncio\n",
    "# if asyncio.get_event_loop().is_running():\n",
    "#     import nest_asyncio\n",
    "#     nest_asyncio.apply()\n",
    "\n",
    "# url = \"https://search-merchant.xn--42caj4e6bk1f5b1j.com/result?searchQuery=&provinceCode=83&categoryId=50001%2C10001%2C10007\"\n",
    "# asession = AsyncHTMLSession()\n",
    "# r = await asession.get(url)\n",
    "# await r.html.arender()\n",
    "# resp=r.html.raw_html\n"
   ]
  },
  {
   "cell_type": "code",
   "execution_count": 2,
   "metadata": {},
   "outputs": [],
   "source": [
    "# resp"
   ]
  },
  {
   "cell_type": "code",
   "execution_count": 3,
   "metadata": {},
   "outputs": [
    {
     "name": "stdout",
     "output_type": "stream",
     "text": [
      "Requirement already satisfied: webdriver-manager in c:\\users\\tk\\anaconda3\\lib\\site-packages (3.2.2)\n",
      "Requirement already satisfied: crayons in c:\\users\\tk\\anaconda3\\lib\\site-packages (from webdriver-manager) (0.4.0)\n",
      "Requirement already satisfied: configparser in c:\\users\\tk\\anaconda3\\lib\\site-packages (from webdriver-manager) (5.0.1)\n",
      "Requirement already satisfied: requests in c:\\users\\tk\\anaconda3\\lib\\site-packages (from webdriver-manager) (2.23.0)\n",
      "Requirement already satisfied: colorama in c:\\users\\tk\\anaconda3\\lib\\site-packages (from crayons->webdriver-manager) (0.4.3)\n",
      "Requirement already satisfied: certifi>=2017.4.17 in c:\\users\\tk\\anaconda3\\lib\\site-packages (from requests->webdriver-manager) (2020.4.5.1)\n",
      "Requirement already satisfied: urllib3!=1.25.0,!=1.25.1,<1.26,>=1.21.1 in c:\\users\\tk\\anaconda3\\lib\\site-packages (from requests->webdriver-manager) (1.25.8)\n",
      "Requirement already satisfied: idna<3,>=2.5 in c:\\users\\tk\\anaconda3\\lib\\site-packages (from requests->webdriver-manager) (2.9)\n",
      "Requirement already satisfied: chardet<4,>=3.0.2 in c:\\users\\tk\\anaconda3\\lib\\site-packages (from requests->webdriver-manager) (3.0.4)\n"
     ]
    }
   ],
   "source": [
    "!pip install webdriver-manager"
   ]
  },
  {
   "cell_type": "code",
   "execution_count": 4,
   "metadata": {},
   "outputs": [
    {
     "name": "stdout",
     "output_type": "stream",
     "text": [
      "Requirement already satisfied: selenium-wire in c:\\users\\tk\\anaconda3\\lib\\site-packages (2.1.1)\n",
      "Requirement already satisfied: selenium>=3.4.0 in c:\\users\\tk\\anaconda3\\lib\\site-packages (from selenium-wire) (3.141.0)\n",
      "Requirement already satisfied: urllib3 in c:\\users\\tk\\anaconda3\\lib\\site-packages (from selenium>=3.4.0->selenium-wire) (1.25.8)\n"
     ]
    }
   ],
   "source": [
    "!pip install selenium-wire"
   ]
  },
  {
   "cell_type": "code",
   "execution_count": 5,
   "metadata": {},
   "outputs": [],
   "source": [
    "from seleniumwire import webdriver"
   ]
  },
  {
   "cell_type": "code",
   "execution_count": 6,
   "metadata": {},
   "outputs": [
    {
     "name": "stderr",
     "output_type": "stream",
     "text": [
      "[WDM] - Current google-chrome version is 86.0.4240\n",
      "[WDM] - Get LATEST driver version for 86.0.4240\n",
      "[WDM] - Get LATEST driver version for 86.0.4240\n"
     ]
    },
    {
     "name": "stdout",
     "output_type": "stream",
     "text": [
      " \n"
     ]
    },
    {
     "name": "stderr",
     "output_type": "stream",
     "text": [
      "[WDM] - Trying to download new driver from http://chromedriver.storage.googleapis.com/86.0.4240.22/chromedriver_win32.zip\n",
      "[WDM] - Driver has been saved in cache [C:\\Users\\Tk\\.wdm\\drivers\\chromedriver\\win32\\86.0.4240.22]\n"
     ]
    }
   ],
   "source": [
    "\n",
    "\n",
    "from selenium.webdriver.chrome.options import Options\n",
    "# from selenium import webdriver\n",
    "\n",
    "chrome_options = Options()\n",
    "chrome_options.add_argument(\"--headless\")\n",
    "\n",
    "from webdriver_manager.chrome import ChromeDriverManager\n",
    "driver = webdriver.Chrome(ChromeDriverManager().install(), chrome_options=chrome_options)"
   ]
  },
  {
   "cell_type": "code",
   "execution_count": 7,
   "metadata": {},
   "outputs": [
    {
     "data": {
      "text/plain": [
       "<seleniumwire.webdriver.browser.Chrome (session=\"6487385d9646655054634652f49e1df8\")>"
      ]
     },
     "execution_count": 7,
     "metadata": {},
     "output_type": "execute_result"
    }
   ],
   "source": [
    "driver"
   ]
  },
  {
   "cell_type": "code",
   "execution_count": 9,
   "metadata": {},
   "outputs": [],
   "source": [
    "import json\n",
    "\n",
    "# format: { province_code: number of shops in that province}\n",
    "province_code = json.load(open(\"province_code.json\"))"
   ]
  },
  {
   "cell_type": "code",
   "execution_count": 14,
   "metadata": {},
   "outputs": [],
   "source": [
    "import json\n",
    "\n",
    "def get_shops_from_requests(driver):\n",
    "    shops = []\n",
    "    for request in driver.requests:\n",
    "        if request.path==\"/api/shop/search\":\n",
    "            items = json.loads(request.response.body)\n",
    "            shops = shops + items[\"data\"]\n",
    "    return shops\n"
   ]
  },
  {
   "cell_type": "code",
   "execution_count": 57,
   "metadata": {},
   "outputs": [
    {
     "name": "stderr",
     "output_type": "stream",
     "text": [
      "[WDM] - Current google-chrome version is 86.0.4240\n",
      "[WDM] - Get LATEST driver version for 86.0.4240\n",
      "[WDM] - Driver [C:\\Users\\Tk\\.wdm\\drivers\\chromedriver\\win32\\86.0.4240.22\\chromedriver.exe] found in cache\n"
     ]
    },
    {
     "name": "stdout",
     "output_type": "stream",
     "text": [
      " \n",
      "SLEEP 5 to settle down\n",
      "85 ระนอง 626\n",
      "0/51 18\n",
      "Message: javascript error: Cannot read property 'click' of null\n",
      "  (Session info: headless chrome=86.0.4240.111)\n",
      "\n",
      "SLEEP 5 to settle down again\n",
      "85 628 100.31948881789137\n",
      "----------------\n"
     ]
    }
   ],
   "source": [
    "from selenium.common.exceptions import JavascriptException\n",
    "import time\n",
    "import random\n",
    "\n",
    "province_names = {}\n",
    "for k in province_code.keys():\n",
    "    k = \"85\"\n",
    "    url = f\"https://search-merchant.xn--42caj4e6bk1f5b1j.com/result?searchQuery=&provinceCode={k}&categoryId=all\"\n",
    "    \n",
    "    driver = webdriver.Chrome(ChromeDriverManager().install(), chrome_options=chrome_options)\n",
    "    driver.get(url)\n",
    "    print(\"SLEEP 5 to settle down\")\n",
    "    time.sleep(5)\n",
    "    \n",
    "    shops = get_shops_from_requests(driver)\n",
    "    print(k, shops[0][\"addressProvinceName\"], province_code[k])\n",
    "    \n",
    "    province_names[k] = shops[0][\"addressProvinceName\"]\n",
    "    # It will click next until it gets all items; each click will get around 18 items\n",
    "    n = int((province_code[k]//18) * 1.5)\n",
    "    for i in range(n):\n",
    "        try:\n",
    "            driver.execute_script('document.querySelector(\".items-start>.flex-1 button\").click()')\n",
    "            if (i%50==0):\n",
    "                items = driver.find_elements_by_css_selector('.items-start>.flex-1 .grid>a')\n",
    "                print(f\"{i}/{n}\", len(items))\n",
    "\n",
    "            time.sleep(1+random.random())\n",
    "        except JavascriptException as e:\n",
    "            print(e)\n",
    "            break\n",
    "    \n",
    "    print(\"SLEEP 5 to settle down again\")\n",
    "    time.sleep(5)\n",
    "    \n",
    "    shops = get_shops_from_requests(driver)\n",
    "    o = json.dumps(shops, indent=4)\n",
    "    fo = open(f\"shop_{k}.json\", \"w\")\n",
    "    fo.write(o)\n",
    "    fo.close()\n",
    "    \n",
    "    print(k, len(shops), len(shops)*100.0/province_code[k])\n",
    "    print(\"----------------\")\n",
    "    \n",
    "    break\n",
    "\n",
    "o = json.dumps(province_names, indent=4)\n",
    "fo = open(f\"province_names.json\", \"w\")\n",
    "fo.write(o)\n",
    "fo.close()\n",
    "\n"
   ]
  },
  {
   "cell_type": "code",
   "execution_count": null,
   "metadata": {},
   "outputs": [],
   "source": [
    "# get_shops_from_requests(driver)"
   ]
  },
  {
   "cell_type": "code",
   "execution_count": 96,
   "metadata": {},
   "outputs": [
    {
     "data": {
      "text/plain": [
       "683"
      ]
     },
     "execution_count": 96,
     "metadata": {},
     "output_type": "execute_result"
    }
   ],
   "source": [
    "# items = driver.find_elements_by_css_selector('.items-start>.flex-1 .grid>a')\n",
    "# len(items)"
   ]
  },
  {
   "cell_type": "code",
   "execution_count": 56,
   "metadata": {},
   "outputs": [
    {
     "name": "stdout",
     "output_type": "stream",
     "text": [
      "Message: javascript error: Cannot read property 'click' of null\n",
      "  (Session info: headless chrome=86.0.4240.111)\n",
      "\n"
     ]
    }
   ],
   "source": []
  },
  {
   "cell_type": "code",
   "execution_count": 92,
   "metadata": {},
   "outputs": [],
   "source": []
  },
  {
   "cell_type": "code",
   "execution_count": null,
   "metadata": {},
   "outputs": [],
   "source": []
  },
  {
   "cell_type": "code",
   "execution_count": 94,
   "metadata": {},
   "outputs": [],
   "source": []
  },
  {
   "cell_type": "code",
   "execution_count": null,
   "metadata": {},
   "outputs": [],
   "source": []
  }
 ],
 "metadata": {
  "kernelspec": {
   "display_name": "Python 3",
   "language": "python",
   "name": "python3"
  },
  "language_info": {
   "codemirror_mode": {
    "name": "ipython",
    "version": 3
   },
   "file_extension": ".py",
   "mimetype": "text/x-python",
   "name": "python",
   "nbconvert_exporter": "python",
   "pygments_lexer": "ipython3",
   "version": "3.7.7"
  }
 },
 "nbformat": 4,
 "nbformat_minor": 4
}
